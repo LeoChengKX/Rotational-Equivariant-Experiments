{
 "cells": [
  {
   "cell_type": "code",
   "execution_count": 1,
   "metadata": {},
   "outputs": [],
   "source": [
    "import torch\n",
    "from groupy.gconv.pytorch_gconv.splitgconv2d import *\n",
    "import matplotlib.pyplot as plt"
   ]
  },
  {
   "cell_type": "code",
   "execution_count": null,
   "metadata": {},
   "outputs": [],
   "source": []
  },
  {
   "cell_type": "code",
   "execution_count": 2,
   "metadata": {},
   "outputs": [
    {
     "data": {
      "text/plain": [
       "['model.mtx1',\n",
       " 'model.mtx2',\n",
       " 'model.MLP_blocks.0.linears.weight',\n",
       " 'model.MLP_blocks.1.linears.weight',\n",
       " 'model.MLP_blocks.2.linears.weight',\n",
       " 'model.MLP_blocks.3.linears.weight',\n",
       " 'model.MLP_blocks.4.linears.weight',\n",
       " 'model.MLP_blocks.5.linears.weight',\n",
       " 'model.MLP_blocks.6.linears.weight',\n",
       " 'model.MLP_blocks.7.linears.weight',\n",
       " 'model.MLP_blocks.8.linears.weight',\n",
       " 'cparams_transform.0',\n",
       " 'cparams_transform.1',\n",
       " 'cparams_transform.2',\n",
       " 'cparams_transform.3']"
      ]
     },
     "execution_count": 2,
     "metadata": {},
     "output_type": "execute_result"
    }
   ],
   "source": [
    "from mlp2gcnn_P4 import *\n",
    "from benchmark.MLP_gconv import * \n",
    "\n",
    "ckpt = torch.load(\"checkpoints/mlp2gcnn_checkpoints/blocks9_layers1_lr0.01_hidden64_img28_merge_dim10_img_dim28_run_0730_14_10/checkpoint.ckpt\")\n",
    "\n",
    "list(ckpt['model'].keys())"
   ]
  },
  {
   "cell_type": "code",
   "execution_count": 10,
   "metadata": {},
   "outputs": [
    {
     "name": "stdout",
     "output_type": "stream",
     "text": [
      "torch.Size([128, 4, 26, 26]) torch.Size([128, 1, 4, 26, 26])\n"
     ]
    },
    {
     "data": {
      "text/plain": [
       "tensor(0.5687, device='cuda:0', grad_fn=<MseLossBackward0>)"
      ]
     },
     "execution_count": 10,
     "metadata": {},
     "output_type": "execute_result"
    }
   ],
   "source": [
    "in_ch = 1\n",
    "out_ch = 1\n",
    "\n",
    "weights1 = torch.rand((out_ch, in_ch, 1, 3, 3)).cuda()  # out_ch, in_ch, in_stab, ks, ks\n",
    "weights2 = torch.rand((out_ch, in_ch, 4, 3, 3))\n",
    "modelConv = P4ConvZ2()\n",
    "bias = nn.Parameter(torch.zeros((out_ch)).cuda())\n",
    "modelConv.weight = weights1\n",
    "# modelConv.bias = bias\n",
    "C2 = P4ConvP4()\n",
    "C2.weight = weights2\n",
    "\n",
    "model = MLPGConv_Z2(\"checkpoints/mlp2gcnn_checkpoints/blocks9_layers1_lr0.01_hidden64_img28_merge_dim10_img_dim28_run_0730_14_10/checkpoint.ckpt\",\n",
    "                    28, in_ch, out_ch, 3, cnn_weight=weights1, cnn_bias=bias).cuda()\n",
    "\n",
    "img = torch.rand(128, 1, 1, 28, 28).cuda()\n",
    "conv_out = modelConv(img)\n",
    "model_out = model(img)\n",
    "\n",
    "print(conv_out.shape, model_out.shape)\n",
    "nn.MSELoss()(conv_out, model_out)"
   ]
  },
  {
   "cell_type": "code",
   "execution_count": null,
   "metadata": {},
   "outputs": [],
   "source": []
  }
 ],
 "metadata": {
  "kernelspec": {
   "display_name": "venv",
   "language": "python",
   "name": "python3"
  },
  "language_info": {
   "codemirror_mode": {
    "name": "ipython",
    "version": 3
   },
   "file_extension": ".py",
   "mimetype": "text/x-python",
   "name": "python",
   "nbconvert_exporter": "python",
   "pygments_lexer": "ipython3",
   "version": "3.9.18"
  }
 },
 "nbformat": 4,
 "nbformat_minor": 2
}
